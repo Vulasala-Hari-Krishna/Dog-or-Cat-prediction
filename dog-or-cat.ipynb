{
 "cells": [
  {
   "cell_type": "markdown",
   "id": "702c9d5d",
   "metadata": {},
   "source": [
    "# Convolutional Neural Networks"
   ]
  },
  {
   "cell_type": "markdown",
   "id": "4c52e563",
   "metadata": {},
   "source": [
    "# importing libraries"
   ]
  },
  {
   "cell_type": "code",
   "execution_count": null,
   "id": "61659856",
   "metadata": {},
   "outputs": [],
   "source": [
    "import numpy as np\n",
    "import tensorflow as tf\n",
    "from keras.preprocessing.image import ImageDataGenerator"
   ]
  },
  {
   "cell_type": "markdown",
   "id": "3925b72a",
   "metadata": {},
   "source": [
    "# Part - 1 Data preprocessing"
   ]
  },
  {
   "cell_type": "markdown",
   "id": "3665956a",
   "metadata": {},
   "source": [
    "# preprocessing the training set"
   ]
  },
  {
   "cell_type": "code",
   "execution_count": 4,
   "id": "77efd9a5",
   "metadata": {},
   "outputs": [
    {
     "name": "stdout",
     "output_type": "stream",
     "text": [
      "Found 8000 images belonging to 2 classes.\n"
     ]
    }
   ],
   "source": [
    "train_datagen = ImageDataGenerator(rescale = 1./255, shear_range = 0.2, zoom_range = 0.2, horizontal_flip = True)\n",
    "training_set = train_datagen.flow_from_directory('datasets/dogs_cats/training_set',target_size = (64, 64),class_mode = 'binary',batch_size = 32)                        "
   ]
  },
  {
   "cell_type": "markdown",
   "id": "35679cea",
   "metadata": {},
   "source": [
    "# preprocessing the test set"
   ]
  },
  {
   "cell_type": "code",
   "execution_count": 6,
   "id": "8cccdfe8",
   "metadata": {},
   "outputs": [
    {
     "name": "stdout",
     "output_type": "stream",
     "text": [
      "Found 2000 images belonging to 2 classes.\n"
     ]
    }
   ],
   "source": [
    "test_datagen = ImageDataGenerator(rescale = 1./255)\n",
    "test_set = test_datagen.flow_from_directory('datasets/dogs_cats/test_set',target_size = (64,64),class_mode = 'binary',batch_size = 32)"
   ]
  },
  {
   "cell_type": "markdown",
   "id": "f68b213b",
   "metadata": {},
   "source": [
    "# Part - 2 Building the CNN "
   ]
  },
  {
   "cell_type": "markdown",
   "id": "ea12bbbc",
   "metadata": {},
   "source": [
    "# Initialising the CNN"
   ]
  },
  {
   "cell_type": "code",
   "execution_count": 7,
   "id": "7d78fd61",
   "metadata": {},
   "outputs": [
    {
     "name": "stderr",
     "output_type": "stream",
     "text": [
      "2022-12-10 16:12:33.774910: W tensorflow/compiler/xla/stream_executor/platform/default/dso_loader.cc:64] Could not load dynamic library 'libcuda.so.1'; dlerror: libcuda.so.1: cannot open shared object file: No such file or directory\n",
      "2022-12-10 16:12:33.775401: W tensorflow/compiler/xla/stream_executor/cuda/cuda_driver.cc:265] failed call to cuInit: UNKNOWN ERROR (303)\n",
      "2022-12-10 16:12:33.775476: I tensorflow/compiler/xla/stream_executor/cuda/cuda_diagnostics.cc:156] kernel driver does not appear to be running on this host (1234): /proc/driver/nvidia/version does not exist\n",
      "2022-12-10 16:12:33.775967: I tensorflow/core/platform/cpu_feature_guard.cc:193] This TensorFlow binary is optimized with oneAPI Deep Neural Network Library (oneDNN) to use the following CPU instructions in performance-critical operations:  AVX2 FMA\n",
      "To enable them in other operations, rebuild TensorFlow with the appropriate compiler flags.\n"
     ]
    }
   ],
   "source": [
    "cnn = tf.keras.models.Sequential()"
   ]
  },
  {
   "cell_type": "markdown",
   "id": "91fc3998",
   "metadata": {},
   "source": [
    "# Step 1 - Convolution"
   ]
  },
  {
   "cell_type": "code",
   "execution_count": 8,
   "id": "f21e0e59",
   "metadata": {},
   "outputs": [],
   "source": [
    "cnn.add(tf.keras.layers.Conv2D(filters = 32, kernel_size = 3, activation = 'relu', input_shape = [64,64,3]))"
   ]
  },
  {
   "cell_type": "markdown",
   "id": "ca80669b",
   "metadata": {},
   "source": [
    "# Step 2 - Pooling"
   ]
  },
  {
   "cell_type": "code",
   "execution_count": 10,
   "id": "443c4c25",
   "metadata": {},
   "outputs": [],
   "source": [
    "cnn.add(tf.keras.layers.MaxPool2D(strides = 2, pool_size = 2))"
   ]
  },
  {
   "cell_type": "markdown",
   "id": "6779afc0",
   "metadata": {},
   "source": [
    "# Adding a second convolutional layer"
   ]
  },
  {
   "cell_type": "code",
   "execution_count": 11,
   "id": "17f9a0b7",
   "metadata": {},
   "outputs": [],
   "source": [
    "cnn.add(tf.keras.layers.Conv2D(filters = 32, activation = 'relu', kernel_size = 3))\n",
    "cnn.add(tf.keras.layers.MaxPool2D(pool_size = 2, strides = 2))"
   ]
  },
  {
   "cell_type": "markdown",
   "id": "8ced89f4",
   "metadata": {},
   "source": [
    "# Step 3 - Flattening"
   ]
  },
  {
   "cell_type": "code",
   "execution_count": 12,
   "id": "91cbf287",
   "metadata": {},
   "outputs": [],
   "source": [
    "cnn.add(tf.keras.layers.Flatten())"
   ]
  },
  {
   "cell_type": "markdown",
   "id": "217699e5",
   "metadata": {},
   "source": [
    "# Step 4 - Full Connection "
   ]
  },
  {
   "cell_type": "code",
   "execution_count": 13,
   "id": "81db7c41",
   "metadata": {},
   "outputs": [],
   "source": [
    "cnn.add(tf.keras.layers.Dense(units = 128, activation = 'relu'))"
   ]
  },
  {
   "cell_type": "markdown",
   "id": "3a529465",
   "metadata": {},
   "source": [
    "# Step 5 - Output Layer"
   ]
  },
  {
   "cell_type": "code",
   "execution_count": 14,
   "id": "1dac306b",
   "metadata": {},
   "outputs": [],
   "source": [
    "cnn.add(tf.keras.layers.Dense(units = 1, activation = 'sigmoid', ))"
   ]
  },
  {
   "cell_type": "markdown",
   "id": "62d11aaa",
   "metadata": {},
   "source": [
    "# Part 3 - Training the CNN"
   ]
  },
  {
   "cell_type": "markdown",
   "id": "6b2aefdd",
   "metadata": {},
   "source": [
    "# Compiling the CNN"
   ]
  },
  {
   "cell_type": "code",
   "execution_count": 18,
   "id": "69960fe2",
   "metadata": {},
   "outputs": [],
   "source": [
    "cnn.compile(optimizer = 'adam', loss = 'binary_crossentropy', metrics = ['accuracy'])"
   ]
  },
  {
   "cell_type": "markdown",
   "id": "2c0a917c",
   "metadata": {},
   "source": [
    "# Training the CNN on the Training set and evaluating it on the Test set"
   ]
  },
  {
   "cell_type": "code",
   "execution_count": 19,
   "id": "28298365",
   "metadata": {},
   "outputs": [
    {
     "name": "stdout",
     "output_type": "stream",
     "text": [
      "Epoch 1/25\n"
     ]
    },
    {
     "name": "stderr",
     "output_type": "stream",
     "text": [
      "2022-12-10 16:25:01.403009: W tensorflow/tsl/framework/cpu_allocator_impl.cc:82] Allocation of 15745024 exceeds 10% of free system memory.\n",
      "2022-12-10 16:25:02.013862: W tensorflow/tsl/framework/cpu_allocator_impl.cc:82] Allocation of 28096128 exceeds 10% of free system memory.\n",
      "2022-12-10 16:25:02.158845: W tensorflow/tsl/framework/cpu_allocator_impl.cc:82] Allocation of 15745024 exceeds 10% of free system memory.\n"
     ]
    },
    {
     "name": "stdout",
     "output_type": "stream",
     "text": [
      "\r",
      "  1/250 [..............................] - ETA: 16:15 - loss: 0.6822 - accuracy: 0.5625"
     ]
    },
    {
     "name": "stderr",
     "output_type": "stream",
     "text": [
      "2022-12-10 16:25:02.214320: W tensorflow/tsl/framework/cpu_allocator_impl.cc:82] Allocation of 14530320 exceeds 10% of free system memory.\n",
      "2022-12-10 16:25:02.460528: W tensorflow/tsl/framework/cpu_allocator_impl.cc:82] Allocation of 15745024 exceeds 10% of free system memory.\n"
     ]
    },
    {
     "name": "stdout",
     "output_type": "stream",
     "text": [
      "250/250 [==============================] - 191s 750ms/step - loss: 0.6796 - accuracy: 0.5614 - val_loss: 0.6645 - val_accuracy: 0.6070\n",
      "Epoch 2/25\n",
      "250/250 [==============================] - 86s 344ms/step - loss: 0.6344 - accuracy: 0.6426 - val_loss: 0.5968 - val_accuracy: 0.6960\n",
      "Epoch 3/25\n",
      "250/250 [==============================] - 90s 360ms/step - loss: 0.6034 - accuracy: 0.6784 - val_loss: 0.5860 - val_accuracy: 0.7170\n",
      "Epoch 4/25\n",
      "250/250 [==============================] - 88s 352ms/step - loss: 0.5617 - accuracy: 0.7104 - val_loss: 0.5562 - val_accuracy: 0.7255\n",
      "Epoch 5/25\n",
      "250/250 [==============================] - 92s 366ms/step - loss: 0.5277 - accuracy: 0.7354 - val_loss: 0.5210 - val_accuracy: 0.7525\n",
      "Epoch 6/25\n",
      "250/250 [==============================] - 92s 366ms/step - loss: 0.5108 - accuracy: 0.7491 - val_loss: 0.4961 - val_accuracy: 0.7670\n",
      "Epoch 7/25\n",
      "250/250 [==============================] - 91s 363ms/step - loss: 0.4893 - accuracy: 0.7554 - val_loss: 0.4935 - val_accuracy: 0.7680\n",
      "Epoch 8/25\n",
      "250/250 [==============================] - 87s 347ms/step - loss: 0.4752 - accuracy: 0.7680 - val_loss: 0.4805 - val_accuracy: 0.7715\n",
      "Epoch 9/25\n",
      "250/250 [==============================] - 91s 364ms/step - loss: 0.4527 - accuracy: 0.7828 - val_loss: 0.4804 - val_accuracy: 0.7790\n",
      "Epoch 10/25\n",
      "250/250 [==============================] - 87s 349ms/step - loss: 0.4288 - accuracy: 0.8006 - val_loss: 0.4748 - val_accuracy: 0.7880\n",
      "Epoch 11/25\n",
      "250/250 [==============================] - 93s 372ms/step - loss: 0.4192 - accuracy: 0.8062 - val_loss: 0.4532 - val_accuracy: 0.7875\n",
      "Epoch 12/25\n",
      "250/250 [==============================] - 91s 365ms/step - loss: 0.4014 - accuracy: 0.8189 - val_loss: 0.4655 - val_accuracy: 0.7900\n",
      "Epoch 13/25\n",
      "250/250 [==============================] - 91s 364ms/step - loss: 0.3931 - accuracy: 0.8217 - val_loss: 0.5242 - val_accuracy: 0.7650\n",
      "Epoch 14/25\n",
      "250/250 [==============================] - 92s 368ms/step - loss: 0.3785 - accuracy: 0.8257 - val_loss: 0.4676 - val_accuracy: 0.7910\n",
      "Epoch 15/25\n",
      "250/250 [==============================] - 92s 367ms/step - loss: 0.3628 - accuracy: 0.8370 - val_loss: 0.4963 - val_accuracy: 0.7775\n",
      "Epoch 16/25\n",
      "250/250 [==============================] - 92s 367ms/step - loss: 0.3585 - accuracy: 0.8396 - val_loss: 0.4668 - val_accuracy: 0.7870\n",
      "Epoch 17/25\n",
      "250/250 [==============================] - 91s 365ms/step - loss: 0.3366 - accuracy: 0.8497 - val_loss: 0.4860 - val_accuracy: 0.7935\n",
      "Epoch 18/25\n",
      "250/250 [==============================] - 92s 366ms/step - loss: 0.3263 - accuracy: 0.8561 - val_loss: 0.4756 - val_accuracy: 0.8005\n",
      "Epoch 19/25\n",
      "250/250 [==============================] - 91s 365ms/step - loss: 0.3164 - accuracy: 0.8609 - val_loss: 0.5147 - val_accuracy: 0.7920\n",
      "Epoch 20/25\n",
      "250/250 [==============================] - 87s 348ms/step - loss: 0.2966 - accuracy: 0.8745 - val_loss: 0.4903 - val_accuracy: 0.8050\n",
      "Epoch 21/25\n",
      "250/250 [==============================] - 92s 366ms/step - loss: 0.2834 - accuracy: 0.8779 - val_loss: 0.5047 - val_accuracy: 0.8010\n",
      "Epoch 22/25\n",
      "250/250 [==============================] - 91s 363ms/step - loss: 0.2763 - accuracy: 0.8826 - val_loss: 0.5203 - val_accuracy: 0.8040\n",
      "Epoch 23/25\n",
      "250/250 [==============================] - 92s 366ms/step - loss: 0.2521 - accuracy: 0.8931 - val_loss: 0.5359 - val_accuracy: 0.7950\n",
      "Epoch 24/25\n",
      "250/250 [==============================] - 91s 365ms/step - loss: 0.2409 - accuracy: 0.8997 - val_loss: 0.5343 - val_accuracy: 0.7945\n",
      "Epoch 25/25\n",
      "250/250 [==============================] - 92s 366ms/step - loss: 0.2347 - accuracy: 0.9019 - val_loss: 0.5248 - val_accuracy: 0.7985\n"
     ]
    },
    {
     "data": {
      "text/plain": [
       "<keras.callbacks.History at 0x7f850c1d3790>"
      ]
     },
     "execution_count": 19,
     "metadata": {},
     "output_type": "execute_result"
    }
   ],
   "source": [
    "cnn.fit(x = training_set, validation_data = test_set, epochs = 25)"
   ]
  },
  {
   "cell_type": "markdown",
   "id": "720c45a7",
   "metadata": {},
   "source": [
    "# Part 4 - Making a single prediction"
   ]
  },
  {
   "cell_type": "code",
   "execution_count": 53,
   "id": "69473bfa",
   "metadata": {},
   "outputs": [
    {
     "name": "stdout",
     "output_type": "stream",
     "text": [
      "1/1 [==============================] - 0s 37ms/step\n"
     ]
    }
   ],
   "source": [
    "from tensorflow.keras.utils import load_img\n",
    "from tensorflow.keras import utils\n",
    "test_image = load_img('datasets/dogs_cats/single_prediction/cat_dog2.jpg',target_size = (64,64)) \n",
    "test_image = utils.img_to_array(test_image)\n",
    "test_image = np.expand_dims(test_image, axis = 0)\n",
    "result = cnn.predict(test_image)\n",
    "training_set.class_indices\n",
    "if result[0][0] == 1:\n",
    "    prediction = 'dog'\n",
    "else:\n",
    "    prediction = 'cat'"
   ]
  },
  {
   "cell_type": "code",
   "execution_count": 54,
   "id": "82223e23",
   "metadata": {},
   "outputs": [
    {
     "name": "stdout",
     "output_type": "stream",
     "text": [
      "dog\n"
     ]
    }
   ],
   "source": [
    "print(prediction)"
   ]
  },
  {
   "cell_type": "code",
   "execution_count": null,
   "id": "d0f5cb9f",
   "metadata": {},
   "outputs": [],
   "source": []
  }
 ],
 "metadata": {
  "kernelspec": {
   "display_name": "Python 3 (ipykernel)",
   "language": "python",
   "name": "python3"
  },
  "language_info": {
   "codemirror_mode": {
    "name": "ipython",
    "version": 3
   },
   "file_extension": ".py",
   "mimetype": "text/x-python",
   "name": "python",
   "nbconvert_exporter": "python",
   "pygments_lexer": "ipython3",
   "version": "3.9.7"
  }
 },
 "nbformat": 4,
 "nbformat_minor": 5
}
